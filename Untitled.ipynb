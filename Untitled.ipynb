{
 "cells": [
  {
   "cell_type": "code",
   "execution_count": 3,
   "id": "66801119-d512-43de-ab82-8267c2607591",
   "metadata": {},
   "outputs": [],
   "source": [
    "\n",
    "from matricesRalas import *"
   ]
  },
  {
   "cell_type": "code",
   "execution_count": 4,
   "id": "ee563753-c213-4ae5-8715-0c9de3c1596b",
   "metadata": {},
   "outputs": [],
   "source": [
    "W =  MatrizRala(11,11)\n",
    "# W[i,j] =  1 si p_j cita a p_i\n",
    "# 0 = A 1 = B 2 = C 3 = D 4 = E 5 = F 6 = G 7 = H 8 = I 9 = J 10 = K\n",
    "\n",
    "W[1,0] = 1      # A -> B\n",
    "W[5,0] = 1      # A -> F\n",
    "W[6,0] = 1      # A -> G\n",
    "W[0,2] =  1     # C -> A\n",
    "W[0,3] = 1      # D -> A\n",
    "W[0,4] = 1      # E -> A\n",
    "W[8,5] = 1      # F -> I\n",
    "W[5,6] = 1      # G -> F\n",
    "W[6,7] = 1      # H -> G\n",
    "W[6,8] = 1      # I -> G\n",
    "W[7,8] = 1      # I -> H\n",
    "W[9,8] = 1      # I -> J\n",
    "W[4,10] = 1     # K -> E"
   ]
  },
  {
   "cell_type": "code",
   "execution_count": 5,
   "id": "5cac62e0-9928-488f-8810-7a6aacb6ac03",
   "metadata": {},
   "outputs": [],
   "source": [
    "D  =  MatrizRala(11,11)\n",
    "D[0,0] = 1/3\n",
    "D[2,2] = 1\n",
    "D[3,3] = 1\n",
    "D[4,4] = 1\n",
    "D[5,5] = 1\n",
    "D[6,6] = 1\n",
    "D[7,7] = 1\n",
    "D[8,8] = 1/3\n",
    "D[10,10] = 1"
   ]
  },
  {
   "cell_type": "code",
   "execution_count": 6,
   "id": "71e8fcc0-f8c8-498d-aa09-7eb0a8c41412",
   "metadata": {},
   "outputs": [],
   "source": [
    "I  =  MatrizRala(11,11) # identidad_11\n",
    "vector_unos  =  MatrizRala(11,1) # vector de 1s\n",
    "p_estrella_it  =  MatrizRala(11,1)\n",
    "for i in range(11):\n",
    "    I[i, i] = 1\n",
    "    vector_unos[i,0] = 1\n",
    "    p_estrella_it[i,0] = 1/11"
   ]
  },
  {
   "cell_type": "code",
   "execution_count": 7,
   "id": "e9fb0e6a-b778-4fc2-b35f-e80f889151fb",
   "metadata": {},
   "outputs": [],
   "source": [
    "d = 0.85\n",
    "A = I - d*W@D\n",
    "b = ((1-d)/11)*vector_unos\n",
    "p_estrella = GaussJordan(A,b) # p_estrella = x / Ax=b:"
   ]
  },
  {
   "cell_type": "code",
   "execution_count": 8,
   "id": "56edc39c-a62e-41a5-a05c-612516ecd31d",
   "metadata": {},
   "outputs": [],
   "source": [
    "diferencias_abs = []\n",
    "t = 100\n",
    "for i in range(t):\n",
    "    p_estrella_it  =  ((1-d)/11)*vector_unos + d*W@D@p_estrella_it\n",
    "    delta = 0\n",
    "    for j in range(p_estrella.shape[0]):\n",
    "        delta += abs(p_estrella_it[j,0] - p_estrella[j,0])   \n",
    "    diferencias_abs.append(delta)"
   ]
  },
  {
   "cell_type": "code",
   "execution_count": 9,
   "id": "c48103be-d74d-494f-8698-d854d690d0d9",
   "metadata": {},
   "outputs": [
    {
     "ename": "NameError",
     "evalue": "name 'plt' is not defined",
     "output_type": "error",
     "traceback": [
      "\u001b[1;31m---------------------------------------------------------------------------\u001b[0m",
      "\u001b[1;31mNameError\u001b[0m                                 Traceback (most recent call last)",
      "Cell \u001b[1;32mIn[9], line 1\u001b[0m\n\u001b[1;32m----> 1\u001b[0m \u001b[43mplt\u001b[49m\u001b[38;5;241m.\u001b[39mplot(\u001b[38;5;28mrange\u001b[39m(t), diferencias_abs)\n\u001b[0;32m      2\u001b[0m plt\u001b[38;5;241m.\u001b[39mxlabel(\u001b[38;5;124m'\u001b[39m\u001b[38;5;124mIteración\u001b[39m\u001b[38;5;124m'\u001b[39m)\n\u001b[0;32m      3\u001b[0m plt\u001b[38;5;241m.\u001b[39mylabel(\u001b[38;5;124m'\u001b[39m\u001b[38;5;124mDiferencia absoluta\u001b[39m\u001b[38;5;124m'\u001b[39m)\n",
      "\u001b[1;31mNameError\u001b[0m: name 'plt' is not defined"
     ]
    }
   ],
   "source": [
    "\n",
    "plt.plot(range(t), diferencias_abs)\n",
    "plt.xlabel('Iteración')\n",
    "plt.ylabel('Diferencia absoluta')\n",
    "plt.title('Convergencia en PageRank')\n",
    "# plt.show()\n",
    "filename = 'plots/PageRank_convergencia_t' + str(t) + '.png'\n",
    "plt.savefig(filename)"
   ]
  }
 ],
 "metadata": {
  "kernelspec": {
   "display_name": "Python 3 (ipykernel)",
   "language": "python",
   "name": "python3"
  },
  "language_info": {
   "codemirror_mode": {
    "name": "ipython",
    "version": 3
   },
   "file_extension": ".py",
   "mimetype": "text/x-python",
   "name": "python",
   "nbconvert_exporter": "python",
   "pygments_lexer": "ipython3",
   "version": "3.10.11"
  }
 },
 "nbformat": 4,
 "nbformat_minor": 5
}
