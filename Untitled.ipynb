{
 "cells": [
  {
   "cell_type": "code",
   "execution_count": 1,
   "id": "66801119-d512-43de-ab82-8267c2607591",
   "metadata": {},
   "outputs": [],
   "source": [
    "import math\n",
    "import matplotlib.pyplot as plt\n",
    "from matricesRalas import *"
   ]
  },
  {
   "cell_type": "code",
   "execution_count": 2,
   "id": "ee563753-c213-4ae5-8715-0c9de3c1596b",
   "metadata": {},
   "outputs": [],
   "source": [
    "W =  MatrizRala(11,11)\n",
    "# W[i,j] =  1 si p_j cita a p_i\n",
    "# 0 = A 1 = B 2 = C 3 = D 4 = E 5 = F 6 = G 7 = H 8 = I 9 = J 10 = K\n",
    "\n",
    "W[1,0] = 1      # A -> B\n",
    "W[5,0] = 1      # A -> F\n",
    "W[6,0] = 1      # A -> G\n",
    "W[0,2] =  1     # C -> A\n",
    "W[0,3] = 1      # D -> A\n",
    "W[0,4] = 1      # E -> A\n",
    "W[8,5] = 1      # F -> I\n",
    "W[5,6] = 1      # G -> F\n",
    "W[6,7] = 1      # H -> G\n",
    "W[6,8] = 1      # I -> G\n",
    "W[7,8] = 1      # I -> H\n",
    "W[9,8] = 1      # I -> J\n",
    "W[4,10] = 1     # K -> E"
   ]
  },
  {
   "cell_type": "code",
   "execution_count": 3,
   "id": "5cac62e0-9928-488f-8810-7a6aacb6ac03",
   "metadata": {},
   "outputs": [],
   "source": [
    "D  =  MatrizRala(11,11)\n",
    "D[0,0] = 1/3\n",
    "D[2,2] = 1\n",
    "D[3,3] = 1\n",
    "D[4,4] = 1\n",
    "D[5,5] = 1\n",
    "D[6,6] = 1\n",
    "D[7,7] = 1\n",
    "D[8,8] = 1/3\n",
    "D[10,10] = 1"
   ]
  },
  {
   "cell_type": "code",
   "execution_count": 4,
   "id": "71e8fcc0-f8c8-498d-aa09-7eb0a8c41412",
   "metadata": {},
   "outputs": [],
   "source": [
    "I  =  MatrizRala(11,11) # identidad_11\n",
    "vector_unos  =  MatrizRala(11,1) # vector de 1s\n",
    "p_estrella_it  =  MatrizRala(11,1)\n",
    "for i in range(11):\n",
    "    I[i, i] = 1\n",
    "    vector_unos[i,0] = 1\n",
    "    p_estrella_it[i,0] = 1/11"
   ]
  },
  {
   "cell_type": "code",
   "execution_count": 5,
   "id": "e9fb0e6a-b778-4fc2-b35f-e80f889151fb",
   "metadata": {},
   "outputs": [],
   "source": [
    "d = 0.85\n",
    "A = I - d*W@D\n",
    "b = ((1-d)/11)*vector_unos\n",
    "p_estrella = GaussJordan(A,b) # p_estrella = x / Ax=b:\n"
   ]
  },
  {
   "cell_type": "code",
   "execution_count": 6,
   "id": "56edc39c-a62e-41a5-a05c-612516ecd31d",
   "metadata": {},
   "outputs": [
    {
     "name": "stdout",
     "output_type": "stream",
     "text": [
      "MatrizRala([ \n",
      "    [ 0.05826136363636365 ]\n",
      "    [ 0.030143750000000004 ]\n",
      "    [ 0.01363636363636364 ]\n",
      "    [ 0.01363636363636364 ]\n",
      "    [ 0.02522727272727273 ]\n",
      "    [ 0.11539510774418676 ]\n",
      "    [ 0.10029571499316091 ]\n",
      "    [ 0.04529098844839165 ]\n",
      "    [ 0.11172220521892239 ]\n",
      "    [ 0.04529098844839165 ]\n",
      "    [ 0.01363636363636364 ]\n",
      "])\n",
      "MatrizRala([ \n",
      "    [ 0.058261363636363646 ]\n",
      "    [ 0.030143750000000004 ]\n",
      "    [ 0.01363636363636364 ]\n",
      "    [ 0.01363636363636364 ]\n",
      "    [ 0.02522727272727273 ]\n",
      "    [ 0.11539510774426019 ]\n",
      "    [ 0.10029571499322633 ]\n",
      "    [ 0.04529098844842247 ]\n",
      "    [ 0.11172220521900479 ]\n",
      "    [ 0.04529098844842247 ]\n",
      "    [ 0.01363636363636364 ]\n",
      "])\n"
     ]
    }
   ],
   "source": [
    "diferencias_abs = []\n",
    "t = 100\n",
    "for i in range(t):\n",
    "    p_estrella_it  =  ((1-d)/11)*vector_unos + d*W@D@p_estrella_it\n",
    "    delta = 0\n",
    "    for j in range(p_estrella.shape[0]):\n",
    "        delta += (p_estrella_it[j,0] - p_estrella[j,0])**2   \n",
    "    diferencias_abs.append(math.sqrt(delta))\n",
    "\n",
    "print(p_estrella)\n",
    "print(p_estrella_it)"
   ]
  },
  {
   "cell_type": "code",
   "execution_count": 7,
   "id": "c48103be-d74d-494f-8698-d854d690d0d9",
   "metadata": {},
   "outputs": [
    {
     "data": {
      "image/png": "[encoded data removed]",
      "text/plain": [
       "<Figure size 640x480 with 1 Axes>"
      ]
     },
     "metadata": {},
     "output_type": "display_data"
    }
   ],
   "source": [
    "\n",
    "plt.plot(range(t), diferencias_abs)\n",
    "plt.xlabel('Iteración')\n",
    "plt.ylabel('Diferencia absoluta')\n",
    "plt.title('Convergencia en PageRank')\n",
    "# plt.show()\n",
    "filename = 'plots/PageRank_convergencia_t' + str(t) + '.png'\n",
    "plt.savefig(filename)"
   ]
  },
  {
   "cell_type": "code",
   "execution_count": null,
   "id": "d1eb6b96",
   "metadata": {},
   "outputs": [],
   "source": [
    "#Ejercicio 4\n",
    "from matricesRalas import *\n",
    "import numpy as np\n",
    "import math\n",
    "\n",
    "D = MatrizRala(629814,629814)\n",
    "W = MatrizRala(629814,629814)\n",
    "\n",
    "archivo_citas = open('citas.csv', encoding='utf8')\n",
    "for fila in archivo_citas:\n",
    "    fila = fila.split(',')\n",
    "    if fila[0] != 'from':\n",
    "\n",
    "        W[int(fila[1]),int(fila[0])] = 1\n",
    "\n",
    "        if D[int(fila[0]),int(fila[0])]:\n",
    "            D[int(fila[0]),int(fila[0])] += 1\n",
    "        else:\n",
    "            D[int(fila[0]),int(fila[0])] = 1\n",
    "\n",
    "\n",
    "archivo_citas.close()\n",
    "\n",
    "for i in range(D.shape[0]):\n",
    "    if D[i,i] != 0:\n",
    "        D[i,i] = 1/D[i,i] \n",
    "\n",
    "\n",
    "vector_unos  =  MatrizRala(629814,1)\n",
    "p_estrella_it = MatrizRala(629814,1)\n",
    "for i in range(629814):\n",
    "    vector_unos[i,0] = 1\n",
    "    p_estrella_it[i,0] =  1/629814\n",
    "\n",
    "\n",
    "d = 0.85\n",
    "dif_abs = 1e16\n",
    "dif_abs_prev = 0\n",
    "epsilon = 1e-5\n",
    "\n",
    "k = ((1-d)/629814)*vector_unos\n",
    "s= d*W@D\n",
    "i=0\n",
    "while math.sqrt(dif_abs) > epsilon:\n",
    "    p_estrella_prev = p_estrella_it\n",
    "    p_estrella_it = k + s@p_estrella_it\n",
    "    dif_abs=0\n",
    "    for i in range(629814):\n",
    "        temp = p_estrella_it[i,0] - p_estrella_prev[i,0]\n",
    "        dif_abs+=temp**2\n",
    "           \n",
    "\n",
    "\n",
    "\n",
    "\n",
    "ranking = []\n",
    "for i in range(10):\n",
    "    mayor = 0\n",
    "    mayor_pos = 0\n",
    "    for j in range(629814):\n",
    "        if (p_estrella_it[j,0] > mayor) and ((j) not in ranking):\n",
    "            mayor = p_estrella_it[j,0]\n",
    "            mayor_pos = j\n",
    "    ranking.append(mayor_pos)\n",
    "\n",
    "archivo_papers = open('papers.csv', encoding='utf8')\n",
    "filas=[]\n",
    "for fila in archivo_citas:\n",
    "    fila = fila.split(',')\n",
    "    filas.append(fila)\n",
    "for i in range(len(ranking)):\n",
    "    print(f\"ID:{i} Nombre: {filas[i][1]} Impacto:{p_estrella_it[i,0]}\")"
   ]
  }
 ],
 "metadata": {
  "kernelspec": {
   "display_name": "Python 3.10.12 64-bit",
   "language": "python",
   "name": "python3"
  },
  "language_info": {
   "codemirror_mode": {
    "name": "ipython",
    "version": 3
   },
   "file_extension": ".py",
   "mimetype": "text/x-python",
   "name": "python",
   "nbconvert_exporter": "python",
   "pygments_lexer": "ipython3",
   "version": "3.10.12"
  },
  "vscode": {
   "interpreter": {
    "hash": "916dbcbb3f70747c44a77c7bcd40155683ae19c65e1c03b4aa3499c5328201f1"
   }
  }
 },
 "nbformat": 4,
 "nbformat_minor": 5
}
